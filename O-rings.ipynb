{
 "cells": [
  {
   "cell_type": "markdown",
   "metadata": {},
   "source": [
    "Also find at google colab, where the project was first created: https://colab.research.google.com/drive/11jrW8mpE_oWFh1Lz_5I9Ok7CE53QOsJ7?usp=sharing"
   ]
  },
  {
   "cell_type": "code",
   "execution_count": 1,
   "metadata": {},
   "outputs": [],
   "source": [
    "import warnings\n",
    "#warnings.filterwarnings(\"ignore\")                    # just ignore warnings\n",
    "\n",
    "# data handling\n",
    "import numpy as np                                   # linear algebra\n",
    "import pandas as pd                                  # data processing\n",
    "\n",
    "# ML learning\n",
    "from sklearn.linear_model import LinearRegression, Ridge\n",
    "from sklearn.model_selection import train_test_split # split data into training and test sets\n",
    "\n",
    "# data visualization\n",
    "import matplotlib.pyplot as plt                     # basic plotting library\n",
    "import seaborn as sns                               # more advanced visual plotting library \n",
    "%matplotlib inline\n",
    "\n",
    "import scipy"
   ]
  },
  {
   "cell_type": "markdown",
   "metadata": {},
   "source": [
    "### Import of datasets "
   ]
  },
  {
   "cell_type": "code",
   "execution_count": 2,
   "metadata": {},
   "outputs": [],
   "source": [
    "DataFrame1 = pd.read_fwf(\"o-ring-erosion-only.data\", \n",
    "                  sep='\\t', header=None, \n",
    "                  names=[\"O-rings at risk\", \"O-rings at thermal distress\", \"Launch temperature\", \"Leak-check pressure\", \"Temporal order of flight\"])\n",
    "\n",
    "DataFrame2 = pd.read_fwf(\"o-ring-erosion-or-blowby.data\", \n",
    "                  sep='\\t', header=None, \n",
    "                  names=[\"O-rings at risk\", \"O-rings at thermal distress\", \"Launch temperature\", \"Leak-check pressure\", \"Temporal order of flight\"])\n"
   ]
  },
  {
   "cell_type": "markdown",
   "metadata": {},
   "source": [
    "### Inspection of datasets"
   ]
  },
  {
   "cell_type": "code",
   "execution_count": 3,
   "metadata": {},
   "outputs": [
    {
     "data": {
      "text/html": [
       "<div>\n",
       "<style scoped>\n",
       "    .dataframe tbody tr th:only-of-type {\n",
       "        vertical-align: middle;\n",
       "    }\n",
       "\n",
       "    .dataframe tbody tr th {\n",
       "        vertical-align: top;\n",
       "    }\n",
       "\n",
       "    .dataframe thead th {\n",
       "        text-align: right;\n",
       "    }\n",
       "</style>\n",
       "<table border=\"1\" class=\"dataframe\">\n",
       "  <thead>\n",
       "    <tr style=\"text-align: right;\">\n",
       "      <th></th>\n",
       "      <th>O-rings at risk</th>\n",
       "      <th>O-rings at thermal distress</th>\n",
       "      <th>Launch temperature</th>\n",
       "      <th>Leak-check pressure</th>\n",
       "      <th>Temporal order of flight</th>\n",
       "    </tr>\n",
       "  </thead>\n",
       "  <tbody>\n",
       "    <tr>\n",
       "      <th>0</th>\n",
       "      <td>6</td>\n",
       "      <td>0</td>\n",
       "      <td>66</td>\n",
       "      <td>50</td>\n",
       "      <td>1</td>\n",
       "    </tr>\n",
       "    <tr>\n",
       "      <th>1</th>\n",
       "      <td>6</td>\n",
       "      <td>1</td>\n",
       "      <td>70</td>\n",
       "      <td>50</td>\n",
       "      <td>2</td>\n",
       "    </tr>\n",
       "    <tr>\n",
       "      <th>2</th>\n",
       "      <td>6</td>\n",
       "      <td>0</td>\n",
       "      <td>69</td>\n",
       "      <td>50</td>\n",
       "      <td>3</td>\n",
       "    </tr>\n",
       "    <tr>\n",
       "      <th>3</th>\n",
       "      <td>6</td>\n",
       "      <td>0</td>\n",
       "      <td>68</td>\n",
       "      <td>50</td>\n",
       "      <td>4</td>\n",
       "    </tr>\n",
       "    <tr>\n",
       "      <th>4</th>\n",
       "      <td>6</td>\n",
       "      <td>0</td>\n",
       "      <td>67</td>\n",
       "      <td>50</td>\n",
       "      <td>5</td>\n",
       "    </tr>\n",
       "    <tr>\n",
       "      <th>5</th>\n",
       "      <td>6</td>\n",
       "      <td>0</td>\n",
       "      <td>72</td>\n",
       "      <td>50</td>\n",
       "      <td>6</td>\n",
       "    </tr>\n",
       "    <tr>\n",
       "      <th>6</th>\n",
       "      <td>6</td>\n",
       "      <td>0</td>\n",
       "      <td>73</td>\n",
       "      <td>100</td>\n",
       "      <td>7</td>\n",
       "    </tr>\n",
       "    <tr>\n",
       "      <th>7</th>\n",
       "      <td>6</td>\n",
       "      <td>0</td>\n",
       "      <td>70</td>\n",
       "      <td>100</td>\n",
       "      <td>8</td>\n",
       "    </tr>\n",
       "    <tr>\n",
       "      <th>8</th>\n",
       "      <td>6</td>\n",
       "      <td>1</td>\n",
       "      <td>57</td>\n",
       "      <td>200</td>\n",
       "      <td>9</td>\n",
       "    </tr>\n",
       "    <tr>\n",
       "      <th>9</th>\n",
       "      <td>6</td>\n",
       "      <td>1</td>\n",
       "      <td>63</td>\n",
       "      <td>200</td>\n",
       "      <td>10</td>\n",
       "    </tr>\n",
       "    <tr>\n",
       "      <th>10</th>\n",
       "      <td>6</td>\n",
       "      <td>1</td>\n",
       "      <td>70</td>\n",
       "      <td>200</td>\n",
       "      <td>11</td>\n",
       "    </tr>\n",
       "    <tr>\n",
       "      <th>11</th>\n",
       "      <td>6</td>\n",
       "      <td>0</td>\n",
       "      <td>78</td>\n",
       "      <td>200</td>\n",
       "      <td>12</td>\n",
       "    </tr>\n",
       "    <tr>\n",
       "      <th>12</th>\n",
       "      <td>6</td>\n",
       "      <td>0</td>\n",
       "      <td>67</td>\n",
       "      <td>200</td>\n",
       "      <td>13</td>\n",
       "    </tr>\n",
       "    <tr>\n",
       "      <th>13</th>\n",
       "      <td>6</td>\n",
       "      <td>2</td>\n",
       "      <td>53</td>\n",
       "      <td>200</td>\n",
       "      <td>14</td>\n",
       "    </tr>\n",
       "    <tr>\n",
       "      <th>14</th>\n",
       "      <td>6</td>\n",
       "      <td>0</td>\n",
       "      <td>67</td>\n",
       "      <td>200</td>\n",
       "      <td>15</td>\n",
       "    </tr>\n",
       "    <tr>\n",
       "      <th>15</th>\n",
       "      <td>6</td>\n",
       "      <td>0</td>\n",
       "      <td>75</td>\n",
       "      <td>200</td>\n",
       "      <td>16</td>\n",
       "    </tr>\n",
       "    <tr>\n",
       "      <th>16</th>\n",
       "      <td>6</td>\n",
       "      <td>0</td>\n",
       "      <td>70</td>\n",
       "      <td>200</td>\n",
       "      <td>17</td>\n",
       "    </tr>\n",
       "    <tr>\n",
       "      <th>17</th>\n",
       "      <td>6</td>\n",
       "      <td>0</td>\n",
       "      <td>81</td>\n",
       "      <td>200</td>\n",
       "      <td>18</td>\n",
       "    </tr>\n",
       "    <tr>\n",
       "      <th>18</th>\n",
       "      <td>6</td>\n",
       "      <td>0</td>\n",
       "      <td>76</td>\n",
       "      <td>200</td>\n",
       "      <td>19</td>\n",
       "    </tr>\n",
       "    <tr>\n",
       "      <th>19</th>\n",
       "      <td>6</td>\n",
       "      <td>0</td>\n",
       "      <td>79</td>\n",
       "      <td>200</td>\n",
       "      <td>20</td>\n",
       "    </tr>\n",
       "    <tr>\n",
       "      <th>20</th>\n",
       "      <td>6</td>\n",
       "      <td>0</td>\n",
       "      <td>75</td>\n",
       "      <td>200</td>\n",
       "      <td>21</td>\n",
       "    </tr>\n",
       "    <tr>\n",
       "      <th>21</th>\n",
       "      <td>6</td>\n",
       "      <td>0</td>\n",
       "      <td>76</td>\n",
       "      <td>200</td>\n",
       "      <td>22</td>\n",
       "    </tr>\n",
       "    <tr>\n",
       "      <th>22</th>\n",
       "      <td>6</td>\n",
       "      <td>1</td>\n",
       "      <td>58</td>\n",
       "      <td>200</td>\n",
       "      <td>23</td>\n",
       "    </tr>\n",
       "  </tbody>\n",
       "</table>\n",
       "</div>"
      ],
      "text/plain": [
       "    O-rings at risk  O-rings at thermal distress  Launch temperature  \\\n",
       "0                 6                            0                  66   \n",
       "1                 6                            1                  70   \n",
       "2                 6                            0                  69   \n",
       "3                 6                            0                  68   \n",
       "4                 6                            0                  67   \n",
       "5                 6                            0                  72   \n",
       "6                 6                            0                  73   \n",
       "7                 6                            0                  70   \n",
       "8                 6                            1                  57   \n",
       "9                 6                            1                  63   \n",
       "10                6                            1                  70   \n",
       "11                6                            0                  78   \n",
       "12                6                            0                  67   \n",
       "13                6                            2                  53   \n",
       "14                6                            0                  67   \n",
       "15                6                            0                  75   \n",
       "16                6                            0                  70   \n",
       "17                6                            0                  81   \n",
       "18                6                            0                  76   \n",
       "19                6                            0                  79   \n",
       "20                6                            0                  75   \n",
       "21                6                            0                  76   \n",
       "22                6                            1                  58   \n",
       "\n",
       "    Leak-check pressure  Temporal order of flight  \n",
       "0                    50                         1  \n",
       "1                    50                         2  \n",
       "2                    50                         3  \n",
       "3                    50                         4  \n",
       "4                    50                         5  \n",
       "5                    50                         6  \n",
       "6                   100                         7  \n",
       "7                   100                         8  \n",
       "8                   200                         9  \n",
       "9                   200                        10  \n",
       "10                  200                        11  \n",
       "11                  200                        12  \n",
       "12                  200                        13  \n",
       "13                  200                        14  \n",
       "14                  200                        15  \n",
       "15                  200                        16  \n",
       "16                  200                        17  \n",
       "17                  200                        18  \n",
       "18                  200                        19  \n",
       "19                  200                        20  \n",
       "20                  200                        21  \n",
       "21                  200                        22  \n",
       "22                  200                        23  "
      ]
     },
     "execution_count": 3,
     "metadata": {},
     "output_type": "execute_result"
    }
   ],
   "source": [
    "DataFrame1.head(23)"
   ]
  },
  {
   "cell_type": "code",
   "execution_count": 4,
   "metadata": {},
   "outputs": [
    {
     "data": {
      "text/html": [
       "<div>\n",
       "<style scoped>\n",
       "    .dataframe tbody tr th:only-of-type {\n",
       "        vertical-align: middle;\n",
       "    }\n",
       "\n",
       "    .dataframe tbody tr th {\n",
       "        vertical-align: top;\n",
       "    }\n",
       "\n",
       "    .dataframe thead th {\n",
       "        text-align: right;\n",
       "    }\n",
       "</style>\n",
       "<table border=\"1\" class=\"dataframe\">\n",
       "  <thead>\n",
       "    <tr style=\"text-align: right;\">\n",
       "      <th></th>\n",
       "      <th>O-rings at risk</th>\n",
       "      <th>O-rings at thermal distress</th>\n",
       "      <th>Launch temperature</th>\n",
       "      <th>Leak-check pressure</th>\n",
       "      <th>Temporal order of flight</th>\n",
       "    </tr>\n",
       "  </thead>\n",
       "  <tbody>\n",
       "    <tr>\n",
       "      <th>0</th>\n",
       "      <td>6</td>\n",
       "      <td>0</td>\n",
       "      <td>66</td>\n",
       "      <td>50</td>\n",
       "      <td>1</td>\n",
       "    </tr>\n",
       "    <tr>\n",
       "      <th>1</th>\n",
       "      <td>6</td>\n",
       "      <td>1</td>\n",
       "      <td>70</td>\n",
       "      <td>50</td>\n",
       "      <td>2</td>\n",
       "    </tr>\n",
       "    <tr>\n",
       "      <th>2</th>\n",
       "      <td>6</td>\n",
       "      <td>0</td>\n",
       "      <td>69</td>\n",
       "      <td>50</td>\n",
       "      <td>3</td>\n",
       "    </tr>\n",
       "    <tr>\n",
       "      <th>3</th>\n",
       "      <td>6</td>\n",
       "      <td>0</td>\n",
       "      <td>68</td>\n",
       "      <td>50</td>\n",
       "      <td>4</td>\n",
       "    </tr>\n",
       "    <tr>\n",
       "      <th>4</th>\n",
       "      <td>6</td>\n",
       "      <td>0</td>\n",
       "      <td>67</td>\n",
       "      <td>50</td>\n",
       "      <td>5</td>\n",
       "    </tr>\n",
       "    <tr>\n",
       "      <th>5</th>\n",
       "      <td>6</td>\n",
       "      <td>0</td>\n",
       "      <td>72</td>\n",
       "      <td>50</td>\n",
       "      <td>6</td>\n",
       "    </tr>\n",
       "    <tr>\n",
       "      <th>6</th>\n",
       "      <td>6</td>\n",
       "      <td>0</td>\n",
       "      <td>73</td>\n",
       "      <td>100</td>\n",
       "      <td>7</td>\n",
       "    </tr>\n",
       "    <tr>\n",
       "      <th>7</th>\n",
       "      <td>6</td>\n",
       "      <td>0</td>\n",
       "      <td>70</td>\n",
       "      <td>100</td>\n",
       "      <td>8</td>\n",
       "    </tr>\n",
       "    <tr>\n",
       "      <th>8</th>\n",
       "      <td>6</td>\n",
       "      <td>1</td>\n",
       "      <td>57</td>\n",
       "      <td>200</td>\n",
       "      <td>9</td>\n",
       "    </tr>\n",
       "    <tr>\n",
       "      <th>9</th>\n",
       "      <td>6</td>\n",
       "      <td>1</td>\n",
       "      <td>63</td>\n",
       "      <td>200</td>\n",
       "      <td>10</td>\n",
       "    </tr>\n",
       "    <tr>\n",
       "      <th>10</th>\n",
       "      <td>6</td>\n",
       "      <td>1</td>\n",
       "      <td>70</td>\n",
       "      <td>200</td>\n",
       "      <td>11</td>\n",
       "    </tr>\n",
       "    <tr>\n",
       "      <th>11</th>\n",
       "      <td>6</td>\n",
       "      <td>0</td>\n",
       "      <td>78</td>\n",
       "      <td>200</td>\n",
       "      <td>12</td>\n",
       "    </tr>\n",
       "    <tr>\n",
       "      <th>12</th>\n",
       "      <td>6</td>\n",
       "      <td>0</td>\n",
       "      <td>67</td>\n",
       "      <td>200</td>\n",
       "      <td>13</td>\n",
       "    </tr>\n",
       "    <tr>\n",
       "      <th>13</th>\n",
       "      <td>6</td>\n",
       "      <td>2</td>\n",
       "      <td>53</td>\n",
       "      <td>200</td>\n",
       "      <td>14</td>\n",
       "    </tr>\n",
       "    <tr>\n",
       "      <th>14</th>\n",
       "      <td>6</td>\n",
       "      <td>0</td>\n",
       "      <td>67</td>\n",
       "      <td>200</td>\n",
       "      <td>15</td>\n",
       "    </tr>\n",
       "    <tr>\n",
       "      <th>15</th>\n",
       "      <td>6</td>\n",
       "      <td>0</td>\n",
       "      <td>75</td>\n",
       "      <td>200</td>\n",
       "      <td>16</td>\n",
       "    </tr>\n",
       "    <tr>\n",
       "      <th>16</th>\n",
       "      <td>6</td>\n",
       "      <td>0</td>\n",
       "      <td>70</td>\n",
       "      <td>200</td>\n",
       "      <td>17</td>\n",
       "    </tr>\n",
       "    <tr>\n",
       "      <th>17</th>\n",
       "      <td>6</td>\n",
       "      <td>0</td>\n",
       "      <td>81</td>\n",
       "      <td>200</td>\n",
       "      <td>18</td>\n",
       "    </tr>\n",
       "    <tr>\n",
       "      <th>18</th>\n",
       "      <td>6</td>\n",
       "      <td>0</td>\n",
       "      <td>76</td>\n",
       "      <td>200</td>\n",
       "      <td>19</td>\n",
       "    </tr>\n",
       "    <tr>\n",
       "      <th>19</th>\n",
       "      <td>6</td>\n",
       "      <td>0</td>\n",
       "      <td>79</td>\n",
       "      <td>200</td>\n",
       "      <td>20</td>\n",
       "    </tr>\n",
       "    <tr>\n",
       "      <th>20</th>\n",
       "      <td>6</td>\n",
       "      <td>2</td>\n",
       "      <td>75</td>\n",
       "      <td>200</td>\n",
       "      <td>21</td>\n",
       "    </tr>\n",
       "    <tr>\n",
       "      <th>21</th>\n",
       "      <td>6</td>\n",
       "      <td>0</td>\n",
       "      <td>76</td>\n",
       "      <td>200</td>\n",
       "      <td>22</td>\n",
       "    </tr>\n",
       "    <tr>\n",
       "      <th>22</th>\n",
       "      <td>6</td>\n",
       "      <td>1</td>\n",
       "      <td>58</td>\n",
       "      <td>200</td>\n",
       "      <td>23</td>\n",
       "    </tr>\n",
       "  </tbody>\n",
       "</table>\n",
       "</div>"
      ],
      "text/plain": [
       "    O-rings at risk  O-rings at thermal distress  Launch temperature  \\\n",
       "0                 6                            0                  66   \n",
       "1                 6                            1                  70   \n",
       "2                 6                            0                  69   \n",
       "3                 6                            0                  68   \n",
       "4                 6                            0                  67   \n",
       "5                 6                            0                  72   \n",
       "6                 6                            0                  73   \n",
       "7                 6                            0                  70   \n",
       "8                 6                            1                  57   \n",
       "9                 6                            1                  63   \n",
       "10                6                            1                  70   \n",
       "11                6                            0                  78   \n",
       "12                6                            0                  67   \n",
       "13                6                            2                  53   \n",
       "14                6                            0                  67   \n",
       "15                6                            0                  75   \n",
       "16                6                            0                  70   \n",
       "17                6                            0                  81   \n",
       "18                6                            0                  76   \n",
       "19                6                            0                  79   \n",
       "20                6                            2                  75   \n",
       "21                6                            0                  76   \n",
       "22                6                            1                  58   \n",
       "\n",
       "    Leak-check pressure  Temporal order of flight  \n",
       "0                    50                         1  \n",
       "1                    50                         2  \n",
       "2                    50                         3  \n",
       "3                    50                         4  \n",
       "4                    50                         5  \n",
       "5                    50                         6  \n",
       "6                   100                         7  \n",
       "7                   100                         8  \n",
       "8                   200                         9  \n",
       "9                   200                        10  \n",
       "10                  200                        11  \n",
       "11                  200                        12  \n",
       "12                  200                        13  \n",
       "13                  200                        14  \n",
       "14                  200                        15  \n",
       "15                  200                        16  \n",
       "16                  200                        17  \n",
       "17                  200                        18  \n",
       "18                  200                        19  \n",
       "19                  200                        20  \n",
       "20                  200                        21  \n",
       "21                  200                        22  \n",
       "22                  200                        23  "
      ]
     },
     "execution_count": 4,
     "metadata": {},
     "output_type": "execute_result"
    }
   ],
   "source": [
    "DataFrame2.head(23)"
   ]
  },
  {
   "cell_type": "markdown",
   "metadata": {},
   "source": [
    "### Visualization of erosion-only dataset\n"
   ]
  },
  {
   "cell_type": "code",
   "execution_count": 5,
   "metadata": {},
   "outputs": [],
   "source": [
    "X1 = DataFrame1.iloc[:,2]\n",
    "X2 = DataFrame1.iloc[:,3]\n",
    "\n",
    "Y = DataFrame1.iloc[:,1]"
   ]
  },
  {
   "cell_type": "code",
   "execution_count": 6,
   "metadata": {},
   "outputs": [
    {
     "data": {
      "image/png": "[encoded data removed]",
      "text/plain": [
       "<Figure size 432x288 with 1 Axes>"
      ]
     },
     "metadata": {
      "needs_background": "light"
     },
     "output_type": "display_data"
    }
   ],
   "source": [
    "plt.hist(X1[Y==0], alpha = 0.3, label = 'No eroded O-rings')\n",
    "plt.hist(X1[Y==1], alpha = 0.3, label = '1 eroded O-rings')\n",
    "plt.hist(X1[Y==2], alpha = 0.3, label = '2 eroded O-rings', bins=range(50, 65, 1))                                                                                                                            \n",
    "plt.xticks(fontsize = 12)\n",
    "plt.yticks(fontsize = 12)\n",
    "plt.xlabel('Launch temperature (F)', fontsize = 14)\n",
    "plt.ylabel('Counts of instances', fontsize = 14)\n",
    "plt.legend(fontsize = 12)\n",
    "#plt.savefig(\"Erosion_temp_hist.png\", dpi = 1200)\n",
    "plt.show()"
   ]
  },
  {
   "cell_type": "code",
   "execution_count": 7,
   "metadata": {},
   "outputs": [
    {
     "data": {
      "image/png": "[encoded data removed]",
      "text/plain": [
       "<Figure size 432x288 with 1 Axes>"
      ]
     },
     "metadata": {
      "needs_background": "light"
     },
     "output_type": "display_data"
    }
   ],
   "source": [
    "plt.hist(X2[Y==0], alpha = 0.3, label = 'No eroded O-rings')\n",
    "plt.hist(X2[Y==1], alpha = 0.3, label = '1 eroded O-rings')\n",
    "plt.hist(X2[Y==2], alpha = 0.3, label = '2 eroded O-rings', bins=range(200, 210, 5))                                                                 \n",
    "plt.xticks(fontsize = 12)\n",
    "plt.yticks(fontsize = 12)\n",
    "plt.xlabel('Leak-check pressure (psi)', fontsize = 14)\n",
    "plt.ylabel('Counts of instances', fontsize = 14)\n",
    "plt.legend(fontsize = 12)\n",
    "#plt.savefig(\"Erosion_press_hist.png\", dpi = 1200)\n",
    "plt.show()"
   ]
  },
  {
   "cell_type": "markdown",
   "metadata": {},
   "source": [
    "### Fitting of erosion-only dataset"
   ]
  },
  {
   "cell_type": "code",
   "execution_count": 8,
   "metadata": {},
   "outputs": [],
   "source": [
    "#Determine fraction of O-rings that have suffered erosion only\n",
    "erosion_frac = DataFrame1[\"O-rings at thermal distress\"].values/6"
   ]
  },
  {
   "cell_type": "code",
   "execution_count": 9,
   "metadata": {},
   "outputs": [],
   "source": [
    "DataFrame1.drop([\"O-rings at thermal distress\"],axis=1,inplace=True)\n",
    "DataFrame1.drop([\"Temporal order of flight\"],axis=1,inplace=True)\n",
    "DataFrame1.drop([\"O-rings at risk\"],axis=1,inplace=True)"
   ]
  },
  {
   "cell_type": "code",
   "execution_count": 10,
   "metadata": {},
   "outputs": [],
   "source": [
    "features = DataFrame1.values"
   ]
  },
  {
   "cell_type": "code",
   "execution_count": 11,
   "metadata": {},
   "outputs": [
    {
     "name": "stdout",
     "output_type": "stream",
     "text": [
      "Train accuracy:  0.5888076515117159\n"
     ]
    }
   ],
   "source": [
    "#Perform linear regression on the erosion-only dataset with temperature and pressure\n",
    "erosion_model = LinearRegression()\n",
    "\n",
    "erosion_model.fit(features, erosion_frac)\n",
    "\n",
    "y_pred_erosion = erosion_model.predict(features)\n",
    "\n",
    "train_accuracy = erosion_model.score(features, erosion_frac)\n",
    "\n",
    "print('Train accuracy: ', train_accuracy)"
   ]
  },
  {
   "cell_type": "code",
   "execution_count": 12,
   "metadata": {},
   "outputs": [
    {
     "data": {
      "image/png": "[encoded data removed]",
      "text/plain": [
       "<Figure size 432x288 with 1 Axes>"
      ]
     },
     "metadata": {
      "needs_background": "light"
     },
     "output_type": "display_data"
    }
   ],
   "source": [
    "plt.plot(features[:,0], erosion_frac, \".\", label = 'Data')\n",
    "plt.plot(features[:,0], y_pred_erosion, \".\", label = 'Prediction')\n",
    "plt.xticks(fontsize = 12)\n",
    "plt.yticks(fontsize = 12)\n",
    "plt.xlabel('Temperature (F)', fontsize = 14)\n",
    "plt.ylabel('Fraction of eroded O-rings', fontsize = 14)\n",
    "plt.legend(fontsize = 12)\n",
    "#plt.savefig(\"Fraction_with_erosion_pred.png\", dpi = 1200, bbox_inches = 'tight')\n",
    "plt.show()"
   ]
  },
  {
   "cell_type": "markdown",
   "metadata": {},
   "source": [
    "### Extraction of blowby-only dataset\n"
   ]
  },
  {
   "cell_type": "code",
   "execution_count": 13,
   "metadata": {},
   "outputs": [],
   "source": [
    "blowby_frac = DataFrame2[\"O-rings at thermal distress\"].values.astype(float)"
   ]
  },
  {
   "cell_type": "code",
   "execution_count": 14,
   "metadata": {},
   "outputs": [],
   "source": [
    "# Determine fraction of O-rings that have suffered blowby only\n",
    "for i in range(0, 23):\n",
    "    blowby_frac[i] = (blowby_frac[i] - erosion_frac[i] * 6)/(6 - erosion_frac[i] * 6)"
   ]
  },
  {
   "cell_type": "markdown",
   "metadata": {},
   "source": [
    "### Visualization of blowby-only dataset"
   ]
  },
  {
   "cell_type": "code",
   "execution_count": 15,
   "metadata": {},
   "outputs": [
    {
     "data": {
      "image/png": "[encoded data removed]",
      "text/plain": [
       "<Figure size 432x288 with 1 Axes>"
      ]
     },
     "metadata": {
      "needs_background": "light"
     },
     "output_type": "display_data"
    },
    {
     "data": {
      "image/png": "[encoded data removed]",
      "text/plain": [
       "<Figure size 432x288 with 1 Axes>"
      ]
     },
     "metadata": {
      "needs_background": "light"
     },
     "output_type": "display_data"
    }
   ],
   "source": [
    "plt.hist(features[blowby_frac == 0, 1], alpha = 0.3, bins = range(50, 200 + 10, 10), label = 'No O-rings with blowby')\n",
    "plt.hist(features[blowby_frac == 1/6, 1], alpha = 0.3, bins = range(50, 200 + 10, 10), label = '1 O-ring with blowby')\n",
    "plt.hist(features[blowby_frac == 2/6, 1], alpha = 0.3, bins = range(50, 200 + 10, 10), label = '2 O-rings with blowby')\n",
    "plt.xticks(fontsize = 12)\n",
    "plt.yticks(fontsize = 12)\n",
    "plt.xlabel('Leak-check pressure (psi)', fontsize = 14)\n",
    "plt.ylabel('Counts of instances', fontsize = 14)\n",
    "plt.legend(fontsize = 12)\n",
    "#plt.savefig(\"Blowby_press_hist.png\", dpi = 1200)\n",
    "plt.show()\n",
    "\n",
    "plt.hist(features[blowby_frac == 0, 0], alpha = 0.3, bins = range(50, 90 + 3, 3), label = 'No O-rings with blowby')\n",
    "plt.hist(features[blowby_frac == 1/6, 0], alpha = 0.3, bins = range(50, 90 + 3, 3), label = '1 O-ring with blowby')\n",
    "plt.hist(features[blowby_frac == 2/6, 0], alpha = 0.3, bins = range(50, 90 + 3, 3), label = '2 O-rings with blowby')\n",
    "plt.xticks(fontsize = 12)\n",
    "plt.yticks(fontsize = 12)\n",
    "plt.xlabel('Launch temperature (F)', fontsize = 14)\n",
    "plt.ylabel('Counts of instances', fontsize = 14)\n",
    "plt.legend(fontsize = 12)\n",
    "#plt.savefig(\"Blowby_temp_hist.png\", dpi = 1200)\n",
    "plt.show()"
   ]
  },
  {
   "cell_type": "markdown",
   "metadata": {},
   "source": [
    "### Fitting of blowby-only dataset\n"
   ]
  },
  {
   "cell_type": "code",
   "execution_count": 16,
   "metadata": {},
   "outputs": [
    {
     "name": "stdout",
     "output_type": "stream",
     "text": [
      "Train accuracy:  0.023354564755838636\n"
     ]
    }
   ],
   "source": [
    "#Perform linear regression on the blowby-only dataset with pressure\n",
    "\n",
    "blowby_model = LinearRegression()\n",
    "\n",
    "blowby_model.fit(features[:, 1].reshape(-1, 1), blowby_frac)\n",
    "\n",
    "y_pred_blowby = blowby_model.predict(features[:, 1].reshape(-1, 1))\n",
    "\n",
    "train_accuracy = blowby_model.score(features[:, 1].reshape(-1, 1), blowby_frac)\n",
    "\n",
    "print('Train accuracy: ', train_accuracy)"
   ]
  },
  {
   "cell_type": "code",
   "execution_count": 17,
   "metadata": {},
   "outputs": [
    {
     "data": {
      "image/png": "[encoded data removed]",
      "text/plain": [
       "<Figure size 432x288 with 1 Axes>"
      ]
     },
     "metadata": {
      "needs_background": "light"
     },
     "output_type": "display_data"
    }
   ],
   "source": [
    "plt.plot(features[:,1], blowby_frac, \".\", label = 'Data')\n",
    "plt.plot(features[:,1], y_pred_blowby, \".\", label = 'Prediction')\n",
    "plt.xticks(fontsize = 12)\n",
    "plt.yticks(fontsize = 12)\n",
    "plt.xlabel('Leak-check pressure (psi)', fontsize = 14)\n",
    "plt.ylabel('Fraction of O-rings with blowby', fontsize = 14)\n",
    "plt.legend(fontsize = 12)\n",
    "#plt.savefig(\"Fraction_with_blowby_pred.png\", dpi = 1200, bbox_inches = 'tight')\n",
    "plt.show()"
   ]
  },
  {
   "cell_type": "markdown",
   "metadata": {},
   "source": [
    "### Calculation of O-ring failure probability"
   ]
  },
  {
   "cell_type": "code",
   "execution_count": 18,
   "metadata": {},
   "outputs": [],
   "source": [
    "# Probability of a number of O-rings suffering from erosion only at 31 F and 200 psi\n",
    "erosion_fail_prob = erosion_model.predict([[31, 200]])\n",
    "# Probability of a number of O-rings suffering from blowby only at 200 psi\n",
    "blowby_fail_prob = blowby_model.predict([[200]])\n",
    "\n",
    "# Probability of a number of O-rings failing because of erosion and blowby combined at 31 F and 200 psi\n",
    "failure_prob = erosion_fail_prob * blowby_fail_prob"
   ]
  },
  {
   "cell_type": "code",
   "execution_count": 19,
   "metadata": {},
   "outputs": [],
   "source": [
    "failed_orings = [scipy.stats.binom.pmf(k, 12, failure_prob) for k in range(0, 13)]"
   ]
  },
  {
   "cell_type": "code",
   "execution_count": 20,
   "metadata": {},
   "outputs": [
    {
     "data": {
      "image/png": "[encoded data removed]",
      "text/plain": [
       "<Figure size 432x288 with 1 Axes>"
      ]
     },
     "metadata": {
      "needs_background": "light"
     },
     "output_type": "display_data"
    }
   ],
   "source": [
    "# Plot probability of certain number of O-rings failing at 31 F and 200 psi\n",
    "plt.plot(range(0, 13), failed_orings, '.', markersize = 10)\n",
    "plt.xticks(fontsize = 12)\n",
    "plt.yticks(fontsize = 12)\n",
    "plt.xlabel('Number of failed O-rings', fontsize = 14)\n",
    "plt.ylabel('Probability', fontsize = 14)\n",
    "#plt.savefig(\"Failed_Orings.png\", dpi = 1200)\n",
    "plt.show()"
   ]
  },
  {
   "cell_type": "code",
   "execution_count": 21,
   "metadata": {},
   "outputs": [
    {
     "name": "stdout",
     "output_type": "stream",
     "text": [
      "The probability for 0 O-rings to fail is:  0.8897845761027527\n",
      "The probability for 1 O-rings to fail is:  0.10441260260857887\n",
      "The probability for 2 O-rings to fail is:  0.005615680780084818\n",
      "The probability for 3 O-rings to fail is:  0.00018304925253675498\n",
      "The probability for 4 O-rings to fail is:  4.027516050562801e-06\n",
      "The probability for 5 O-rings to fail is:  6.301501796895268e-08\n",
      "The probability for 6 O-rings to fail is:  7.189151834537583e-10\n",
      "The probability for 7 O-rings to fail is:  6.025841003320643e-12\n",
      "The probability for 8 O-rings to fail is:  3.6828538741294105e-14\n",
      "The probability for 9 O-rings to fail is:  1.6006219614007212e-16\n",
      "The probability for 10 O-rings to fail is:  4.695661997039337e-19\n",
      "The probability for 11 O-rings to fail is:  8.348740079627614e-22\n",
      "The probability for 12 O-rings to fail is:  6.803407685757067e-25\n"
     ]
    }
   ],
   "source": [
    "for i in range(0, 13):\n",
    "    print(\"The probability for\", i, \"O-rings to fail is: \", failed_orings[i][0])"
   ]
  },
  {
   "cell_type": "code",
   "execution_count": null,
   "metadata": {},
   "outputs": [],
   "source": []
  }
 ],
 "metadata": {
  "kernelspec": {
   "display_name": "Python 3",
   "language": "python",
   "name": "python3"
  },
  "language_info": {
   "codemirror_mode": {
    "name": "ipython",
    "version": 3
   },
   "file_extension": ".py",
   "mimetype": "text/x-python",
   "name": "python",
   "nbconvert_exporter": "python",
   "pygments_lexer": "ipython3",
   "version": "3.7.4"
  }
 },
 "nbformat": 4,
 "nbformat_minor": 2
}
